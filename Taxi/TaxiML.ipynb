{
 "cells": [
  {
   "cell_type": "code",
   "execution_count": 244,
   "metadata": {},
   "outputs": [],
   "source": [
    "import pandas as pd\n",
    "import numpy as np\n",
    "import matplotlib.pyplot as plt\n",
    "import seaborn as sns"
   ]
  },
  {
   "cell_type": "code",
   "execution_count": 245,
   "metadata": {},
   "outputs": [
    {
     "data": {
      "text/html": [
       "<div>\n",
       "<style scoped>\n",
       "    .dataframe tbody tr th:only-of-type {\n",
       "        vertical-align: middle;\n",
       "    }\n",
       "\n",
       "    .dataframe tbody tr th {\n",
       "        vertical-align: top;\n",
       "    }\n",
       "\n",
       "    .dataframe thead th {\n",
       "        text-align: right;\n",
       "    }\n",
       "</style>\n",
       "<table border=\"1\" class=\"dataframe\">\n",
       "  <thead>\n",
       "    <tr style=\"text-align: right;\">\n",
       "      <th></th>\n",
       "      <th>passengerCount</th>\n",
       "      <th>tripDistance</th>\n",
       "      <th>hour_of_day</th>\n",
       "      <th>day_of_week</th>\n",
       "      <th>month_num</th>\n",
       "      <th>normalizeHolidayName</th>\n",
       "      <th>isPaidTimeOff</th>\n",
       "      <th>snowDepth</th>\n",
       "      <th>precipTime</th>\n",
       "      <th>precipDepth</th>\n",
       "      <th>temperature</th>\n",
       "      <th>totalAmount</th>\n",
       "    </tr>\n",
       "  </thead>\n",
       "  <tbody>\n",
       "    <tr>\n",
       "      <th>0</th>\n",
       "      <td>1.0</td>\n",
       "      <td>9.40</td>\n",
       "      <td>15</td>\n",
       "      <td>2</td>\n",
       "      <td>1</td>\n",
       "      <td>None</td>\n",
       "      <td>False</td>\n",
       "      <td>29.058824</td>\n",
       "      <td>24.0</td>\n",
       "      <td>3.0</td>\n",
       "      <td>6.185714</td>\n",
       "      <td>44.30</td>\n",
       "    </tr>\n",
       "    <tr>\n",
       "      <th>1</th>\n",
       "      <td>NaN</td>\n",
       "      <td>14.75</td>\n",
       "      <td>13</td>\n",
       "      <td>4</td>\n",
       "      <td>1</td>\n",
       "      <td>None</td>\n",
       "      <td>False</td>\n",
       "      <td>0.000000</td>\n",
       "      <td>6.0</td>\n",
       "      <td>0.0</td>\n",
       "      <td>4.571930</td>\n",
       "      <td>44.80</td>\n",
       "    </tr>\n",
       "    <tr>\n",
       "      <th>2</th>\n",
       "      <td>1.0</td>\n",
       "      <td>3.35</td>\n",
       "      <td>23</td>\n",
       "      <td>4</td>\n",
       "      <td>1</td>\n",
       "      <td>None</td>\n",
       "      <td>False</td>\n",
       "      <td>0.000000</td>\n",
       "      <td>1.0</td>\n",
       "      <td>0.0</td>\n",
       "      <td>4.384091</td>\n",
       "      <td>18.96</td>\n",
       "    </tr>\n",
       "    <tr>\n",
       "      <th>3</th>\n",
       "      <td>1.0</td>\n",
       "      <td>3.33</td>\n",
       "      <td>18</td>\n",
       "      <td>2</td>\n",
       "      <td>1</td>\n",
       "      <td>None</td>\n",
       "      <td>False</td>\n",
       "      <td>29.058824</td>\n",
       "      <td>24.0</td>\n",
       "      <td>3.0</td>\n",
       "      <td>6.185714</td>\n",
       "      <td>16.30</td>\n",
       "    </tr>\n",
       "    <tr>\n",
       "      <th>4</th>\n",
       "      <td>1.0</td>\n",
       "      <td>0.47</td>\n",
       "      <td>17</td>\n",
       "      <td>6</td>\n",
       "      <td>1</td>\n",
       "      <td>None</td>\n",
       "      <td>False</td>\n",
       "      <td>0.000000</td>\n",
       "      <td>1.0</td>\n",
       "      <td>0.0</td>\n",
       "      <td>3.846429</td>\n",
       "      <td>5.30</td>\n",
       "    </tr>\n",
       "  </tbody>\n",
       "</table>\n",
       "</div>"
      ],
      "text/plain": [
       "   passengerCount  tripDistance  hour_of_day  day_of_week  month_num  \\\n",
       "0             1.0          9.40           15            2          1   \n",
       "1             NaN         14.75           13            4          1   \n",
       "2             1.0          3.35           23            4          1   \n",
       "3             1.0          3.33           18            2          1   \n",
       "4             1.0          0.47           17            6          1   \n",
       "\n",
       "  normalizeHolidayName  isPaidTimeOff  snowDepth  precipTime  precipDepth  \\\n",
       "0                 None          False  29.058824        24.0          3.0   \n",
       "1                 None          False   0.000000         6.0          0.0   \n",
       "2                 None          False   0.000000         1.0          0.0   \n",
       "3                 None          False  29.058824        24.0          3.0   \n",
       "4                 None          False   0.000000         1.0          0.0   \n",
       "\n",
       "   temperature  totalAmount  \n",
       "0     6.185714        44.30  \n",
       "1     4.571930        44.80  \n",
       "2     4.384091        18.96  \n",
       "3     6.185714        16.30  \n",
       "4     3.846429         5.30  "
      ]
     },
     "execution_count": 245,
     "metadata": {},
     "output_type": "execute_result"
    }
   ],
   "source": [
    "df = pd.read_csv(\"nyc-taxi3.csv\")\n",
    "df.head()"
   ]
  },
  {
   "cell_type": "code",
   "execution_count": 246,
   "metadata": {},
   "outputs": [
    {
     "data": {
      "text/html": [
       "<div>\n",
       "<style scoped>\n",
       "    .dataframe tbody tr th:only-of-type {\n",
       "        vertical-align: middle;\n",
       "    }\n",
       "\n",
       "    .dataframe tbody tr th {\n",
       "        vertical-align: top;\n",
       "    }\n",
       "\n",
       "    .dataframe thead th {\n",
       "        text-align: right;\n",
       "    }\n",
       "</style>\n",
       "<table border=\"1\" class=\"dataframe\">\n",
       "  <thead>\n",
       "    <tr style=\"text-align: right;\">\n",
       "      <th></th>\n",
       "      <th>passengerCount</th>\n",
       "      <th>tripDistance</th>\n",
       "      <th>hour_of_day</th>\n",
       "      <th>day_of_week</th>\n",
       "      <th>month_num</th>\n",
       "      <th>snowDepth</th>\n",
       "      <th>precipTime</th>\n",
       "      <th>precipDepth</th>\n",
       "      <th>temperature</th>\n",
       "      <th>totalAmount</th>\n",
       "    </tr>\n",
       "  </thead>\n",
       "  <tbody>\n",
       "    <tr>\n",
       "      <th>count</th>\n",
       "      <td>11147.000000</td>\n",
       "      <td>11734.000000</td>\n",
       "      <td>11734.000000</td>\n",
       "      <td>11734.000000</td>\n",
       "      <td>11734.000000</td>\n",
       "      <td>11734.000000</td>\n",
       "      <td>11734.000000</td>\n",
       "      <td>11734.000000</td>\n",
       "      <td>11734.000000</td>\n",
       "      <td>11617.000000</td>\n",
       "    </tr>\n",
       "    <tr>\n",
       "      <th>mean</th>\n",
       "      <td>1.348704</td>\n",
       "      <td>2.866139</td>\n",
       "      <td>13.633884</td>\n",
       "      <td>3.223879</td>\n",
       "      <td>3.502898</td>\n",
       "      <td>1.609015</td>\n",
       "      <td>12.028379</td>\n",
       "      <td>190.782342</td>\n",
       "      <td>10.314244</td>\n",
       "      <td>14.724534</td>\n",
       "    </tr>\n",
       "    <tr>\n",
       "      <th>std</th>\n",
       "      <td>1.015296</td>\n",
       "      <td>2.905810</td>\n",
       "      <td>6.670530</td>\n",
       "      <td>1.961855</td>\n",
       "      <td>1.707729</td>\n",
       "      <td>7.146771</td>\n",
       "      <td>10.158597</td>\n",
       "      <td>1211.087724</td>\n",
       "      <td>8.500600</td>\n",
       "      <td>10.966517</td>\n",
       "    </tr>\n",
       "    <tr>\n",
       "      <th>min</th>\n",
       "      <td>1.000000</td>\n",
       "      <td>0.010000</td>\n",
       "      <td>0.000000</td>\n",
       "      <td>0.000000</td>\n",
       "      <td>1.000000</td>\n",
       "      <td>0.000000</td>\n",
       "      <td>1.000000</td>\n",
       "      <td>0.000000</td>\n",
       "      <td>-13.379464</td>\n",
       "      <td>3.300000</td>\n",
       "    </tr>\n",
       "    <tr>\n",
       "      <th>25%</th>\n",
       "      <td>1.000000</td>\n",
       "      <td>1.060000</td>\n",
       "      <td>9.000000</td>\n",
       "      <td>2.000000</td>\n",
       "      <td>2.000000</td>\n",
       "      <td>0.000000</td>\n",
       "      <td>1.000000</td>\n",
       "      <td>0.000000</td>\n",
       "      <td>3.566372</td>\n",
       "      <td>8.150000</td>\n",
       "    </tr>\n",
       "    <tr>\n",
       "      <th>50%</th>\n",
       "      <td>1.000000</td>\n",
       "      <td>1.900000</td>\n",
       "      <td>15.000000</td>\n",
       "      <td>3.000000</td>\n",
       "      <td>4.000000</td>\n",
       "      <td>0.000000</td>\n",
       "      <td>6.000000</td>\n",
       "      <td>3.000000</td>\n",
       "      <td>10.318229</td>\n",
       "      <td>11.300000</td>\n",
       "    </tr>\n",
       "    <tr>\n",
       "      <th>75%</th>\n",
       "      <td>1.000000</td>\n",
       "      <td>3.620000</td>\n",
       "      <td>19.000000</td>\n",
       "      <td>5.000000</td>\n",
       "      <td>5.000000</td>\n",
       "      <td>0.000000</td>\n",
       "      <td>24.000000</td>\n",
       "      <td>41.000000</td>\n",
       "      <td>17.239744</td>\n",
       "      <td>17.800000</td>\n",
       "    </tr>\n",
       "    <tr>\n",
       "      <th>max</th>\n",
       "      <td>6.000000</td>\n",
       "      <td>62.550000</td>\n",
       "      <td>23.000000</td>\n",
       "      <td>6.000000</td>\n",
       "      <td>6.000000</td>\n",
       "      <td>67.090909</td>\n",
       "      <td>24.000000</td>\n",
       "      <td>9999.000000</td>\n",
       "      <td>26.524107</td>\n",
       "      <td>339.380000</td>\n",
       "    </tr>\n",
       "  </tbody>\n",
       "</table>\n",
       "</div>"
      ],
      "text/plain": [
       "       passengerCount  tripDistance   hour_of_day   day_of_week     month_num  \\\n",
       "count    11147.000000  11734.000000  11734.000000  11734.000000  11734.000000   \n",
       "mean         1.348704      2.866139     13.633884      3.223879      3.502898   \n",
       "std          1.015296      2.905810      6.670530      1.961855      1.707729   \n",
       "min          1.000000      0.010000      0.000000      0.000000      1.000000   \n",
       "25%          1.000000      1.060000      9.000000      2.000000      2.000000   \n",
       "50%          1.000000      1.900000     15.000000      3.000000      4.000000   \n",
       "75%          1.000000      3.620000     19.000000      5.000000      5.000000   \n",
       "max          6.000000     62.550000     23.000000      6.000000      6.000000   \n",
       "\n",
       "          snowDepth    precipTime   precipDepth   temperature   totalAmount  \n",
       "count  11734.000000  11734.000000  11734.000000  11734.000000  11617.000000  \n",
       "mean       1.609015     12.028379    190.782342     10.314244     14.724534  \n",
       "std        7.146771     10.158597   1211.087724      8.500600     10.966517  \n",
       "min        0.000000      1.000000      0.000000    -13.379464      3.300000  \n",
       "25%        0.000000      1.000000      0.000000      3.566372      8.150000  \n",
       "50%        0.000000      6.000000      3.000000     10.318229     11.300000  \n",
       "75%        0.000000     24.000000     41.000000     17.239744     17.800000  \n",
       "max       67.090909     24.000000   9999.000000     26.524107    339.380000  "
      ]
     },
     "execution_count": 246,
     "metadata": {},
     "output_type": "execute_result"
    }
   ],
   "source": [
    "df.describe()\n",
    "#df.corr()"
   ]
  },
  {
   "cell_type": "code",
   "execution_count": 247,
   "metadata": {},
   "outputs": [
    {
     "data": {
      "text/plain": [
       "passengerCount          587\n",
       "tripDistance              0\n",
       "hour_of_day               0\n",
       "day_of_week               0\n",
       "month_num                 0\n",
       "normalizeHolidayName      0\n",
       "isPaidTimeOff             0\n",
       "snowDepth                 0\n",
       "precipTime                0\n",
       "precipDepth               0\n",
       "temperature               0\n",
       "totalAmount             117\n",
       "dtype: int64"
      ]
     },
     "execution_count": 247,
     "metadata": {},
     "output_type": "execute_result"
    }
   ],
   "source": [
    "df.isna().sum()"
   ]
  },
  {
   "cell_type": "code",
   "execution_count": 248,
   "metadata": {},
   "outputs": [],
   "source": [
    "def outliers(df, feature):\n",
    "    Q1= df[feature].quantile(0.25)\n",
    "    Q3 = df[feature].quantile(0.75)\n",
    "    IQR = Q3 - Q1\n",
    "    upper_limit = Q3 + 1.5 * IQR\n",
    "    lower_limit = Q1 - 1.5 * IQR\n",
    "    return upper_limit, lower_limit\n",
    "\n",
    "upper, lower = outliers(df, \"totalAmount\")\n",
    "df = df[(df['totalAmount'] > lower) & (df['totalAmount'] < upper)]\n",
    "upper, lower = outliers(df, \"tripDistance\")\n",
    "df = df[(df['tripDistance'] > lower) & (df['tripDistance'] < upper)]"
   ]
  },
  {
   "cell_type": "code",
   "execution_count": 249,
   "metadata": {},
   "outputs": [
    {
     "data": {
      "text/plain": [
       "<AxesSubplot:xlabel='tripDistance', ylabel='totalAmount'>"
      ]
     },
     "execution_count": 249,
     "metadata": {},
     "output_type": "execute_result"
    },
    {
     "data": {
      "image/png": "[encoded data removed]",
      "text/plain": [
       "<Figure size 432x288 with 1 Axes>"
      ]
     },
     "metadata": {
      "needs_background": "light"
     },
     "output_type": "display_data"
    }
   ],
   "source": [
    "sns.regplot(x=\"tripDistance\", y=\"totalAmount\", data=df)"
   ]
  },
  {
   "cell_type": "code",
   "execution_count": 250,
   "metadata": {},
   "outputs": [
    {
     "data": {
      "text/plain": [
       "<AxesSubplot:xlabel='day_of_week', ylabel='totalAmount'>"
      ]
     },
     "execution_count": 250,
     "metadata": {},
     "output_type": "execute_result"
    },
    {
     "data": {
      "image/png": "[encoded data removed]",
      "text/plain": [
       "<Figure size 432x288 with 1 Axes>"
      ]
     },
     "metadata": {
      "needs_background": "light"
     },
     "output_type": "display_data"
    }
   ],
   "source": [
    "sns.boxplot(x=\"day_of_week\", y=\"totalAmount\", data=df)"
   ]
  },
  {
   "cell_type": "code",
   "execution_count": 251,
   "metadata": {},
   "outputs": [
    {
     "data": {
      "text/plain": [
       "<AxesSubplot:xlabel='passengerCount', ylabel='totalAmount'>"
      ]
     },
     "execution_count": 251,
     "metadata": {},
     "output_type": "execute_result"
    },
    {
     "data": {
      "image/png": "[encoded data removed]",
      "text/plain": [
       "<Figure size 432x288 with 1 Axes>"
      ]
     },
     "metadata": {
      "needs_background": "light"
     },
     "output_type": "display_data"
    }
   ],
   "source": [
    "sns.boxplot(x=\"passengerCount\", y=\"totalAmount\", data=df)"
   ]
  },
  {
   "cell_type": "code",
   "execution_count": 252,
   "metadata": {},
   "outputs": [
    {
     "data": {
      "text/plain": [
       "passengerCount          520\n",
       "tripDistance              0\n",
       "hour_of_day               0\n",
       "day_of_week               0\n",
       "month_num                 0\n",
       "normalizeHolidayName      0\n",
       "isPaidTimeOff             0\n",
       "snowDepth                 0\n",
       "precipTime                0\n",
       "precipDepth               0\n",
       "temperature               0\n",
       "totalAmount               0\n",
       "dtype: int64"
      ]
     },
     "execution_count": 252,
     "metadata": {},
     "output_type": "execute_result"
    }
   ],
   "source": [
    "df.isna().sum()"
   ]
  },
  {
   "cell_type": "code",
   "execution_count": 253,
   "metadata": {},
   "outputs": [],
   "source": [
    "df[\"passengerCount\"] = df[\"passengerCount\"].fillna(df[\"passengerCount\"].mean())"
   ]
  },
  {
   "cell_type": "code",
   "execution_count": 254,
   "metadata": {},
   "outputs": [],
   "source": [
    "bins = [-1, 6, 12, 18, 25]\n",
    "labels =[1,2,3,4]\n",
    "df['time'] = pd.cut(df['hour_of_day'], bins,labels=labels)\n"
   ]
  },
  {
   "cell_type": "code",
   "execution_count": 255,
   "metadata": {},
   "outputs": [
    {
     "data": {
      "text/plain": [
       "[4, 3, 2, 1]\n",
       "Categories (4, int64): [1 < 2 < 3 < 4]"
      ]
     },
     "execution_count": 255,
     "metadata": {},
     "output_type": "execute_result"
    }
   ],
   "source": [
    "df['time'].unique()"
   ]
  },
  {
   "cell_type": "code",
   "execution_count": 256,
   "metadata": {},
   "outputs": [
    {
     "data": {
      "text/html": [
       "<div>\n",
       "<style scoped>\n",
       "    .dataframe tbody tr th:only-of-type {\n",
       "        vertical-align: middle;\n",
       "    }\n",
       "\n",
       "    .dataframe tbody tr th {\n",
       "        vertical-align: top;\n",
       "    }\n",
       "\n",
       "    .dataframe thead th {\n",
       "        text-align: right;\n",
       "    }\n",
       "</style>\n",
       "<table border=\"1\" class=\"dataframe\">\n",
       "  <thead>\n",
       "    <tr style=\"text-align: right;\">\n",
       "      <th></th>\n",
       "      <th>passengerCount</th>\n",
       "      <th>tripDistance</th>\n",
       "      <th>hour_of_day</th>\n",
       "      <th>day_of_week</th>\n",
       "      <th>month_num</th>\n",
       "      <th>normalizeHolidayName</th>\n",
       "      <th>isPaidTimeOff</th>\n",
       "      <th>snowDepth</th>\n",
       "      <th>precipTime</th>\n",
       "      <th>precipDepth</th>\n",
       "      <th>temperature</th>\n",
       "      <th>totalAmount</th>\n",
       "      <th>time</th>\n",
       "      <th>weekend</th>\n",
       "    </tr>\n",
       "  </thead>\n",
       "  <tbody>\n",
       "    <tr>\n",
       "      <th>2</th>\n",
       "      <td>1.0</td>\n",
       "      <td>3.35</td>\n",
       "      <td>23</td>\n",
       "      <td>4</td>\n",
       "      <td>1</td>\n",
       "      <td>None</td>\n",
       "      <td>False</td>\n",
       "      <td>0.000000</td>\n",
       "      <td>1.0</td>\n",
       "      <td>0.0</td>\n",
       "      <td>4.384091</td>\n",
       "      <td>18.96</td>\n",
       "      <td>4</td>\n",
       "      <td>1</td>\n",
       "    </tr>\n",
       "    <tr>\n",
       "      <th>3</th>\n",
       "      <td>1.0</td>\n",
       "      <td>3.33</td>\n",
       "      <td>18</td>\n",
       "      <td>2</td>\n",
       "      <td>1</td>\n",
       "      <td>None</td>\n",
       "      <td>False</td>\n",
       "      <td>29.058824</td>\n",
       "      <td>24.0</td>\n",
       "      <td>3.0</td>\n",
       "      <td>6.185714</td>\n",
       "      <td>16.30</td>\n",
       "      <td>3</td>\n",
       "      <td>1</td>\n",
       "    </tr>\n",
       "    <tr>\n",
       "      <th>4</th>\n",
       "      <td>1.0</td>\n",
       "      <td>0.47</td>\n",
       "      <td>17</td>\n",
       "      <td>6</td>\n",
       "      <td>1</td>\n",
       "      <td>None</td>\n",
       "      <td>False</td>\n",
       "      <td>0.000000</td>\n",
       "      <td>1.0</td>\n",
       "      <td>0.0</td>\n",
       "      <td>3.846429</td>\n",
       "      <td>5.30</td>\n",
       "      <td>3</td>\n",
       "      <td>2</td>\n",
       "    </tr>\n",
       "    <tr>\n",
       "      <th>5</th>\n",
       "      <td>1.0</td>\n",
       "      <td>3.07</td>\n",
       "      <td>9</td>\n",
       "      <td>1</td>\n",
       "      <td>1</td>\n",
       "      <td>None</td>\n",
       "      <td>False</td>\n",
       "      <td>0.000000</td>\n",
       "      <td>6.0</td>\n",
       "      <td>0.0</td>\n",
       "      <td>0.159459</td>\n",
       "      <td>16.30</td>\n",
       "      <td>2</td>\n",
       "      <td>1</td>\n",
       "    </tr>\n",
       "    <tr>\n",
       "      <th>6</th>\n",
       "      <td>1.0</td>\n",
       "      <td>0.92</td>\n",
       "      <td>23</td>\n",
       "      <td>4</td>\n",
       "      <td>1</td>\n",
       "      <td>None</td>\n",
       "      <td>False</td>\n",
       "      <td>0.000000</td>\n",
       "      <td>1.0</td>\n",
       "      <td>0.0</td>\n",
       "      <td>-2.999107</td>\n",
       "      <td>8.97</td>\n",
       "      <td>4</td>\n",
       "      <td>1</td>\n",
       "    </tr>\n",
       "  </tbody>\n",
       "</table>\n",
       "</div>"
      ],
      "text/plain": [
       "   passengerCount  tripDistance  hour_of_day  day_of_week  month_num  \\\n",
       "2             1.0          3.35           23            4          1   \n",
       "3             1.0          3.33           18            2          1   \n",
       "4             1.0          0.47           17            6          1   \n",
       "5             1.0          3.07            9            1          1   \n",
       "6             1.0          0.92           23            4          1   \n",
       "\n",
       "  normalizeHolidayName  isPaidTimeOff  snowDepth  precipTime  precipDepth  \\\n",
       "2                 None          False   0.000000         1.0          0.0   \n",
       "3                 None          False  29.058824        24.0          3.0   \n",
       "4                 None          False   0.000000         1.0          0.0   \n",
       "5                 None          False   0.000000         6.0          0.0   \n",
       "6                 None          False   0.000000         1.0          0.0   \n",
       "\n",
       "   temperature  totalAmount time weekend  \n",
       "2     4.384091        18.96    4       1  \n",
       "3     6.185714        16.30    3       1  \n",
       "4     3.846429         5.30    3       2  \n",
       "5     0.159459        16.30    2       1  \n",
       "6    -2.999107         8.97    4       1  "
      ]
     },
     "execution_count": 256,
     "metadata": {},
     "output_type": "execute_result"
    }
   ],
   "source": [
    "bins = [-1, 4, 8]\n",
    "labels =[1,2]\n",
    "df['weekend'] = pd.cut(df['day_of_week'], bins,labels=labels)\n",
    "df.head()"
   ]
  },
  {
   "cell_type": "code",
   "execution_count": 257,
   "metadata": {},
   "outputs": [],
   "source": [
    "time_dummies = pd.get_dummies(df['time'], prefix='time')\n",
    "time_dummies.drop(time_dummies.columns[0], axis=1, inplace=True)\n",
    "df = pd.concat([df, time_dummies], axis=1)\n",
    "\n",
    "week_dummies = pd.get_dummies(df['weekend'], prefix='wk')\n",
    "week_dummies.drop(week_dummies.columns[0], axis=1, inplace=True)\n",
    "df = pd.concat([df, week_dummies], axis=1)"
   ]
  },
  {
   "cell_type": "code",
   "execution_count": 258,
   "metadata": {},
   "outputs": [
    {
     "data": {
      "text/html": [
       "<div>\n",
       "<style scoped>\n",
       "    .dataframe tbody tr th:only-of-type {\n",
       "        vertical-align: middle;\n",
       "    }\n",
       "\n",
       "    .dataframe tbody tr th {\n",
       "        vertical-align: top;\n",
       "    }\n",
       "\n",
       "    .dataframe thead th {\n",
       "        text-align: right;\n",
       "    }\n",
       "</style>\n",
       "<table border=\"1\" class=\"dataframe\">\n",
       "  <thead>\n",
       "    <tr style=\"text-align: right;\">\n",
       "      <th></th>\n",
       "      <th>time_1</th>\n",
       "      <th>time_2</th>\n",
       "      <th>time_3</th>\n",
       "      <th>time_4</th>\n",
       "    </tr>\n",
       "  </thead>\n",
       "  <tbody>\n",
       "    <tr>\n",
       "      <th>2</th>\n",
       "      <td>0</td>\n",
       "      <td>0</td>\n",
       "      <td>0</td>\n",
       "      <td>1</td>\n",
       "    </tr>\n",
       "    <tr>\n",
       "      <th>3</th>\n",
       "      <td>0</td>\n",
       "      <td>0</td>\n",
       "      <td>1</td>\n",
       "      <td>0</td>\n",
       "    </tr>\n",
       "    <tr>\n",
       "      <th>4</th>\n",
       "      <td>0</td>\n",
       "      <td>0</td>\n",
       "      <td>1</td>\n",
       "      <td>0</td>\n",
       "    </tr>\n",
       "    <tr>\n",
       "      <th>5</th>\n",
       "      <td>0</td>\n",
       "      <td>1</td>\n",
       "      <td>0</td>\n",
       "      <td>0</td>\n",
       "    </tr>\n",
       "    <tr>\n",
       "      <th>6</th>\n",
       "      <td>0</td>\n",
       "      <td>0</td>\n",
       "      <td>0</td>\n",
       "      <td>1</td>\n",
       "    </tr>\n",
       "    <tr>\n",
       "      <th>...</th>\n",
       "      <td>...</td>\n",
       "      <td>...</td>\n",
       "      <td>...</td>\n",
       "      <td>...</td>\n",
       "    </tr>\n",
       "    <tr>\n",
       "      <th>11727</th>\n",
       "      <td>0</td>\n",
       "      <td>0</td>\n",
       "      <td>1</td>\n",
       "      <td>0</td>\n",
       "    </tr>\n",
       "    <tr>\n",
       "      <th>11728</th>\n",
       "      <td>1</td>\n",
       "      <td>0</td>\n",
       "      <td>0</td>\n",
       "      <td>0</td>\n",
       "    </tr>\n",
       "    <tr>\n",
       "      <th>11730</th>\n",
       "      <td>1</td>\n",
       "      <td>0</td>\n",
       "      <td>0</td>\n",
       "      <td>0</td>\n",
       "    </tr>\n",
       "    <tr>\n",
       "      <th>11731</th>\n",
       "      <td>0</td>\n",
       "      <td>0</td>\n",
       "      <td>1</td>\n",
       "      <td>0</td>\n",
       "    </tr>\n",
       "    <tr>\n",
       "      <th>11733</th>\n",
       "      <td>0</td>\n",
       "      <td>0</td>\n",
       "      <td>1</td>\n",
       "      <td>0</td>\n",
       "    </tr>\n",
       "  </tbody>\n",
       "</table>\n",
       "<p>10411 rows × 4 columns</p>\n",
       "</div>"
      ],
      "text/plain": [
       "       time_1  time_2  time_3  time_4\n",
       "2           0       0       0       1\n",
       "3           0       0       1       0\n",
       "4           0       0       1       0\n",
       "5           0       1       0       0\n",
       "6           0       0       0       1\n",
       "...       ...     ...     ...     ...\n",
       "11727       0       0       1       0\n",
       "11728       1       0       0       0\n",
       "11730       1       0       0       0\n",
       "11731       0       0       1       0\n",
       "11733       0       0       1       0\n",
       "\n",
       "[10411 rows x 4 columns]"
      ]
     },
     "execution_count": 258,
     "metadata": {},
     "output_type": "execute_result"
    }
   ],
   "source": [
    "time_dummies1 = pd.get_dummies(df['time'], prefix='time')\n",
    "time_dummies1"
   ]
  },
  {
   "cell_type": "code",
   "execution_count": 259,
   "metadata": {},
   "outputs": [
    {
     "data": {
      "text/plain": [
       "Index(['passengerCount', 'tripDistance', 'hour_of_day', 'day_of_week',\n",
       "       'month_num', 'normalizeHolidayName', 'isPaidTimeOff', 'snowDepth',\n",
       "       'precipTime', 'precipDepth', 'temperature', 'totalAmount', 'time',\n",
       "       'weekend', 'time_2', 'time_3', 'time_4', 'wk_2'],\n",
       "      dtype='object')"
      ]
     },
     "execution_count": 259,
     "metadata": {},
     "output_type": "execute_result"
    }
   ],
   "source": [
    "df.columns"
   ]
  },
  {
   "cell_type": "code",
   "execution_count": 260,
   "metadata": {},
   "outputs": [
    {
     "name": "stdout",
     "output_type": "stream",
     "text": [
      "4.030700851753933\n",
      "[ 2.72158496e-02  3.58196548e+00  5.28031271e-02 -3.00638484e-02\n",
      " -6.46686330e-01  4.82133925e-03  1.51464733e-03 -2.03468756e-05\n",
      "  6.88370479e-03  4.03237955e-01  9.71760819e-01  3.65085187e-01\n",
      " -6.97296376e-01]\n"
     ]
    }
   ],
   "source": [
    "from sklearn.linear_model import LinearRegression\n",
    "features_col = ['passengerCount', 'tripDistance', 'day_of_week',\n",
    "       'month_num', 'isPaidTimeOff', 'snowDepth', 'precipTime', 'precipDepth', 'temperature','time_2', 'time_3', 'time_4','wk_2']\n",
    "\n",
    "X = df[features_col]\n",
    "y = df[\"totalAmount\"]\n",
    "\n",
    "linreg = LinearRegression()\n",
    "linreg.fit(X, y)\n",
    "\n",
    "# print the coefficients\n",
    "print(linreg.intercept_)\n",
    "print(linreg.coef_)"
   ]
  },
  {
   "cell_type": "code",
   "execution_count": 261,
   "metadata": {},
   "outputs": [
    {
     "name": "stdout",
     "output_type": "stream",
     "text": [
      "The Pearson Correlation Coefficient is 0.9066454774982142  with a P-value of P = 0.0\n"
     ]
    }
   ],
   "source": [
    "from scipy import stats\n",
    "pearson_coef, p_value = stats.pearsonr(df['tripDistance'], df['totalAmount'])\n",
    "print(\"The Pearson Correlation Coefficient is\", pearson_coef, \" with a P-value of P =\", p_value)  "
   ]
  },
  {
   "cell_type": "code",
   "execution_count": 262,
   "metadata": {},
   "outputs": [
    {
     "name": "stdout",
     "output_type": "stream",
     "text": [
      "The Pearson Correlation Coefficient is -0.01649285078343309  with a P-value of P = 0.09242369217631419\n"
     ]
    }
   ],
   "source": [
    "pearson_coef, p_value = stats.pearsonr(df['isPaidTimeOff'], df['totalAmount'])\n",
    "print(\"The Pearson Correlation Coefficient is\", pearson_coef, \" with a P-value of P =\", p_value) "
   ]
  },
  {
   "cell_type": "code",
   "execution_count": 263,
   "metadata": {},
   "outputs": [
    {
     "name": "stdout",
     "output_type": "stream",
     "text": [
      "2.389343490852311\n"
     ]
    }
   ],
   "source": [
    "from sklearn.model_selection import train_test_split\n",
    "from sklearn import metrics\n",
    "import numpy as np\n",
    "X_train, X_test, y_train, y_test = train_test_split(X, y, random_state=123)\n",
    "linreg.fit(X_train, y_train)\n",
    "price_predict = linreg.predict(X_test)\n",
    "RMSE = np.sqrt(metrics.mean_squared_error(y_test, price_predict))\n",
    "print(RMSE)"
   ]
  },
  {
   "cell_type": "code",
   "execution_count": 264,
   "metadata": {},
   "outputs": [],
   "source": [
    "def train_test_rmse(feature_cols):\n",
    "    X = df[feature_cols]\n",
    "    y = df[\"totalAmount\"]\n",
    "    X_train, X_test, y_train, y_test = train_test_split(X, y, random_state=123)\n",
    "    linreg = LinearRegression()\n",
    "    linreg.fit(X_train, y_train)\n",
    "    y_pred = linreg.predict(X_test)\n",
    "    return np.sqrt(metrics.mean_squared_error(y_test, y_pred))"
   ]
  },
  {
   "cell_type": "code",
   "execution_count": 265,
   "metadata": {},
   "outputs": [
    {
     "name": "stdout",
     "output_type": "stream",
     "text": [
      "2.399763999616434\n",
      "2.3889862804997386\n"
     ]
    }
   ],
   "source": [
    "print(train_test_rmse(['passengerCount', 'tripDistance', 'day_of_week',\n",
    "       'month_num', 'isPaidTimeOff', 'snowDepth', 'precipTime', 'precipDepth',\n",
    "        'temperature','time_2', 'time_3', 'time_4']))\n",
    "\n",
    "print(train_test_rmse(['passengerCount', 'tripDistance', 'wk_2',\n",
    "       'month_num', 'isPaidTimeOff', 'snowDepth', 'precipDepth',\n",
    "        'temperature','time_2', 'time_3', 'time_4']))"
   ]
  },
  {
   "cell_type": "code",
   "execution_count": 266,
   "metadata": {},
   "outputs": [
    {
     "name": "stdout",
     "output_type": "stream",
     "text": [
      "2.4319976126769407\n"
     ]
    }
   ],
   "source": [
    "print(train_test_rmse(['tripDistance']))"
   ]
  }
 ],
 "metadata": {
  "interpreter": {
   "hash": "172c346aede451beb3462a85f400a4fd20a12ac09642300ab9654fdbc2cedb22"
  },
  "kernelspec": {
   "display_name": "Python 3.10.0 64-bit",
   "language": "python",
   "name": "python3"
  },
  "language_info": {
   "codemirror_mode": {
    "name": "ipython",
    "version": 3
   },
   "file_extension": ".py",
   "mimetype": "text/x-python",
   "name": "python",
   "nbconvert_exporter": "python",
   "pygments_lexer": "ipython3",
   "version": "3.10.0"
  },
  "orig_nbformat": 4
 },
 "nbformat": 4,
 "nbformat_minor": 2
}
